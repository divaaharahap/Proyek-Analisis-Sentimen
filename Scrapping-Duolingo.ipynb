{
 "cells": [
  {
   "cell_type": "markdown",
   "metadata": {},
   "source": [
    "# Scraping Review Duolingo dari Google Play Store\n",
    "Nama : Diva Anggreini Harahap <br>\n",
    "ID : MC319D5X2329\n",
    "\n",
    "Proyek ini bertujuan untuk mengumpulkan data ulasan pengguna aplikasi **Duolingo** dari Google Play Store sebagai bagian dari tugas *Analisis Sentimen*. Target jumlah review adalah **minimal 10.000 data**, yang akan diklasifikasikan menjadi 3 kelas sentimen: `positif`, `netral`, dan `negatif`."
   ]
  },
  {
   "cell_type": "markdown",
   "metadata": {},
   "source": [
    "1. Instalasi Library"
   ]
  },
  {
   "cell_type": "code",
   "execution_count": 1,
   "metadata": {},
   "outputs": [
    {
     "name": "stdout",
     "output_type": "stream",
     "text": [
      "Requirement already satisfied: google-play-scraper in c:\\users\\lenovo\\appdata\\local\\programs\\python\\python311\\lib\\site-packages (1.2.7)\n",
      "Requirement already satisfied: pandas in c:\\users\\lenovo\\appdata\\local\\programs\\python\\python311\\lib\\site-packages (2.2.2)\n",
      "Requirement already satisfied: numpy>=1.23.2 in c:\\users\\lenovo\\appdata\\local\\programs\\python\\python311\\lib\\site-packages (from pandas) (2.1.1)\n",
      "Requirement already satisfied: python-dateutil>=2.8.2 in c:\\users\\lenovo\\appdata\\local\\programs\\python\\python311\\lib\\site-packages (from pandas) (2.9.0.post0)\n",
      "Requirement already satisfied: pytz>=2020.1 in c:\\users\\lenovo\\appdata\\local\\programs\\python\\python311\\lib\\site-packages (from pandas) (2024.2)\n",
      "Requirement already satisfied: tzdata>=2022.7 in c:\\users\\lenovo\\appdata\\local\\programs\\python\\python311\\lib\\site-packages (from pandas) (2024.1)\n",
      "Requirement already satisfied: six>=1.5 in c:\\users\\lenovo\\appdata\\local\\programs\\python\\python311\\lib\\site-packages (from python-dateutil>=2.8.2->pandas) (1.16.0)\n",
      "Note: you may need to restart the kernel to use updated packages.\n"
     ]
    }
   ],
   "source": [
    "%pip install google-play-scraper pandas"
   ]
  },
  {
   "cell_type": "markdown",
   "metadata": {},
   "source": [
    "2. Import Library<br>"
   ]
  },
  {
   "cell_type": "markdown",
   "metadata": {},
   "source": [
    "Setelah instalasi, kita perlu mengimpor library yang dibutuhkan ke dalam notebook."
   ]
  },
  {
   "cell_type": "code",
   "execution_count": null,
   "metadata": {},
   "outputs": [],
   "source": [
    "from google_play_scraper import app, reviews, Sort, reviews_all  # type: ignore\n",
    "import pandas as pd  # type: ignore\n",
    "pd.options.mode.chained_assignment = None\n",
    "import csv"
   ]
  },
  {
   "cell_type": "markdown",
   "metadata": {},
   "source": [
    "3. Scrapping Review Doulingo"
   ]
  },
  {
   "cell_type": "markdown",
   "metadata": {},
   "source": [
    "Di langkah ini, kita melakukan proses scraping dengan mengambil review aplikasi Duolingo. Review yang dikumpulkan akan diambil dalam batch (misalnya 2000 per batch) hingga mencapai target minimum 10.000 data.\n"
   ]
  },
  {
   "cell_type": "code",
   "execution_count": 3,
   "metadata": {},
   "outputs": [
    {
     "name": "stdout",
     "output_type": "stream",
     "text": [
      "Jumlah review yang berhasil diambil: 15000\n"
     ]
    }
   ],
   "source": [
    "duolingo_id = 'com.duolingo'\n",
    "\n",
    "scrapreview, _ = reviews(\n",
    "    duolingo_id,\n",
    "    lang='id',\n",
    "    country='id',\n",
    "    sort=Sort.MOST_RELEVANT,\n",
    "    count=15000\n",
    ")\n",
    "\n",
    "print(f\"Jumlah review yang berhasil diambil: {len(scrapreview)}\")\n"
   ]
  },
  {
   "cell_type": "markdown",
   "metadata": {},
   "source": [
    "4. Menyimpan Hasil Scrapping ke file CSV"
   ]
  },
  {
   "cell_type": "code",
   "execution_count": 4,
   "metadata": {},
   "outputs": [],
   "source": [
    "with open('review_duolingo_id.csv', mode='w', newline='', encoding='utf-8') as file:\n",
    "    writer = csv.writer(file)\n",
    "\n",
    "    # Header kolom\n",
    "    writer.writerow(['User Name', 'Rating', 'Tanggal', 'Review'])\n",
    "\n",
    "    # Tulis data per review\n",
    "    for review in scrapreview:\n",
    "        writer.writerow([\n",
    "            review['userName'],   # Nama pengguna\n",
    "            review['score'],      # Skor rating (1-5)\n",
    "            review['at'],         # Tanggal ulasan\n",
    "            review['content']     # Isi review\n",
    "        ])"
   ]
  }
 ],
 "metadata": {
  "kernelspec": {
   "display_name": "Python 3",
   "language": "python",
   "name": "python3"
  },
  "language_info": {
   "codemirror_mode": {
    "name": "ipython",
    "version": 3
   },
   "file_extension": ".py",
   "mimetype": "text/x-python",
   "name": "python",
   "nbconvert_exporter": "python",
   "pygments_lexer": "ipython3",
   "version": "3.11.2"
  }
 },
 "nbformat": 4,
 "nbformat_minor": 2
}
