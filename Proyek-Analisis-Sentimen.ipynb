{
 "cells": [
  {
   "cell_type": "markdown",
   "id": "cde54cf3",
   "metadata": {},
   "source": [
    "# Analisis Sentimen Review Pengguna Aplikasi Duolingo di Play Store Menggunakan Machine Learning\n",
    "**Nama : Diva Anggreini Harahap** <br>\n",
    "**ID : MC319D5X2329**"
   ]
  },
  {
   "cell_type": "markdown",
   "id": "57619d58",
   "metadata": {},
   "source": [
    "### **Load Dataset**"
   ]
  },
  {
   "cell_type": "code",
   "execution_count": 2,
   "id": "5d624f9f",
   "metadata": {},
   "outputs": [],
   "source": [
    "import pandas as pd "
   ]
  },
  {
   "cell_type": "code",
   "execution_count": 3,
   "id": "fb02660e",
   "metadata": {},
   "outputs": [
    {
     "data": {
      "text/html": [
       "<div>\n",
       "<style scoped>\n",
       "    .dataframe tbody tr th:only-of-type {\n",
       "        vertical-align: middle;\n",
       "    }\n",
       "\n",
       "    .dataframe tbody tr th {\n",
       "        vertical-align: top;\n",
       "    }\n",
       "\n",
       "    .dataframe thead th {\n",
       "        text-align: right;\n",
       "    }\n",
       "</style>\n",
       "<table border=\"1\" class=\"dataframe\">\n",
       "  <thead>\n",
       "    <tr style=\"text-align: right;\">\n",
       "      <th></th>\n",
       "      <th>User Name</th>\n",
       "      <th>Rating</th>\n",
       "      <th>Tanggal</th>\n",
       "      <th>Review</th>\n",
       "    </tr>\n",
       "  </thead>\n",
       "  <tbody>\n",
       "    <tr>\n",
       "      <th>0</th>\n",
       "      <td>Pengguna Google</td>\n",
       "      <td>4</td>\n",
       "      <td>2025-04-05 23:11:33</td>\n",
       "      <td>untuk course bahasa overall bagus, sedangkan u...</td>\n",
       "    </tr>\n",
       "    <tr>\n",
       "      <th>1</th>\n",
       "      <td>Pengguna Google</td>\n",
       "      <td>4</td>\n",
       "      <td>2025-04-04 05:46:54</td>\n",
       "      <td>untuk aplikasi nya seruu dan muda untuk di pah...</td>\n",
       "    </tr>\n",
       "    <tr>\n",
       "      <th>2</th>\n",
       "      <td>Pengguna Google</td>\n",
       "      <td>1</td>\n",
       "      <td>2025-03-29 17:50:52</td>\n",
       "      <td>Untuk aplikasi nya sangat bagus, metode pelaja...</td>\n",
       "    </tr>\n",
       "    <tr>\n",
       "      <th>3</th>\n",
       "      <td>Pengguna Google</td>\n",
       "      <td>5</td>\n",
       "      <td>2025-03-23 20:31:14</td>\n",
       "      <td>sebelumnya cukup sulit untuk mengumpulkan 5 He...</td>\n",
       "    </tr>\n",
       "    <tr>\n",
       "      <th>4</th>\n",
       "      <td>Pengguna Google</td>\n",
       "      <td>3</td>\n",
       "      <td>2025-04-05 12:42:35</td>\n",
       "      <td>Duolingo memang baguss polll, aku suka banget....</td>\n",
       "    </tr>\n",
       "  </tbody>\n",
       "</table>\n",
       "</div>"
      ],
      "text/plain": [
       "         User Name  Rating              Tanggal  \\\n",
       "0  Pengguna Google       4  2025-04-05 23:11:33   \n",
       "1  Pengguna Google       4  2025-04-04 05:46:54   \n",
       "2  Pengguna Google       1  2025-03-29 17:50:52   \n",
       "3  Pengguna Google       5  2025-03-23 20:31:14   \n",
       "4  Pengguna Google       3  2025-04-05 12:42:35   \n",
       "\n",
       "                                              Review  \n",
       "0  untuk course bahasa overall bagus, sedangkan u...  \n",
       "1  untuk aplikasi nya seruu dan muda untuk di pah...  \n",
       "2  Untuk aplikasi nya sangat bagus, metode pelaja...  \n",
       "3  sebelumnya cukup sulit untuk mengumpulkan 5 He...  \n",
       "4  Duolingo memang baguss polll, aku suka banget....  "
      ]
     },
     "execution_count": 3,
     "metadata": {},
     "output_type": "execute_result"
    }
   ],
   "source": [
    "data = pd.read_csv('review_duolingo_id.csv')\n",
    "data.head()"
   ]
  }
 ],
 "metadata": {
  "kernelspec": {
   "display_name": "Python 3",
   "language": "python",
   "name": "python3"
  },
  "language_info": {
   "codemirror_mode": {
    "name": "ipython",
    "version": 3
   },
   "file_extension": ".py",
   "mimetype": "text/x-python",
   "name": "python",
   "nbconvert_exporter": "python",
   "pygments_lexer": "ipython3",
   "version": "3.11.2"
  }
 },
 "nbformat": 4,
 "nbformat_minor": 5
}
